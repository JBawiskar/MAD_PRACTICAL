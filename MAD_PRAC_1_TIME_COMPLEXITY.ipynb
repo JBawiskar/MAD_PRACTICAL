{
  "nbformat": 4,
  "nbformat_minor": 0,
  "metadata": {
    "colab": {
      "provenance": [],
      "authorship_tag": "ABX9TyOsbzgvB8Tt1mFWCraHiBdm",
      "include_colab_link": true
    },
    "kernelspec": {
      "name": "python3",
      "display_name": "Python 3"
    },
    "language_info": {
      "name": "python"
    }
  },
  "cells": [
    {
      "cell_type": "markdown",
      "metadata": {
        "id": "view-in-github",
        "colab_type": "text"
      },
      "source": [
        "<a href=\"https://colab.research.google.com/github/JBawiskar/MAD_PRACTICAL/blob/main/MAD_PRAC_1_TIME_COMPLEXITY.ipynb\" target=\"_parent\"><img src=\"https://colab.research.google.com/assets/colab-badge.svg\" alt=\"Open In Colab\"/></a>"
      ]
    },
    {
      "cell_type": "code",
      "execution_count": 2,
      "metadata": {
        "colab": {
          "base_uri": "https://localhost:8080/"
        },
        "id": "n8i3ufdgjf2_",
        "outputId": "74a51020-aa74-4154-cd00-7331052c0838"
      },
      "outputs": [
        {
          "output_type": "stream",
          "name": "stdout",
          "text": [
            "Hello World!!\n",
            "Time Complexity is of order =  1\n"
          ]
        }
      ],
      "source": [
        "# 1 CONSTANT TIME COMPLEXITY BY STEP COUNT\n",
        "stepcount = 0\n",
        "print(\"Hello World!!\")\n",
        "stepcount = stepcount+1\n",
        "print(\"Time Complexity is of order = \",stepcount)"
      ]
    },
    {
      "cell_type": "code",
      "source": [
        "# 2 LINEAR TIME COMPLEXITY BY STEP COUNT\n",
        "stepcount = 0\n",
        "n = 10\n",
        "for i in range(1, n + 1):\n",
        "  print(\"Hello World !!!\")\n",
        "  stepcount = i\n",
        "print(\"Time Complexity is of order n = \",stepcount)"
      ],
      "metadata": {
        "colab": {
          "base_uri": "https://localhost:8080/"
        },
        "id": "JznomJ3Kjm-b",
        "outputId": "34d62a1d-8b79-40fb-862e-5b3923df78d2"
      },
      "execution_count": 3,
      "outputs": [
        {
          "output_type": "stream",
          "name": "stdout",
          "text": [
            "Hello World !!!\n",
            "Hello World !!!\n",
            "Hello World !!!\n",
            "Hello World !!!\n",
            "Hello World !!!\n",
            "Hello World !!!\n",
            "Hello World !!!\n",
            "Hello World !!!\n",
            "Hello World !!!\n",
            "Hello World !!!\n",
            "Time Complexity is of order n =  10\n"
          ]
        }
      ]
    },
    {
      "cell_type": "code",
      "source": [
        "# 3 LOGARITHMIC COMPLEXITY\n",
        "import time\n",
        "start=time.time()\n",
        "n = 8\n",
        "# for (i = 1; i <= n; i=i*2) {\n",
        "for i in range(1,9,+2):\n",
        "  print(\"Hello World!!\")\n",
        "end=time.time()\n",
        "print(\"Time Complexity is of the order log2(n) and time taken = \",(end-start))"
      ],
      "metadata": {
        "colab": {
          "base_uri": "https://localhost:8080/"
        },
        "id": "t4hZnOlejokr",
        "outputId": "bb602277-134a-48a4-fc01-628e794d73f2"
      },
      "execution_count": 4,
      "outputs": [
        {
          "output_type": "stream",
          "name": "stdout",
          "text": [
            "Hello World!!\n",
            "Hello World!!\n",
            "Hello World!!\n",
            "Hello World!!\n",
            "Time Complexity is of the order log2(n) and time taken =  0.003522634506225586\n"
          ]
        }
      ]
    },
    {
      "cell_type": "code",
      "source": [
        "# 4 LOGARITHMIC COMPLEXITY\n",
        "start = time.time()\n",
        "n = 50\n",
        "i = 2\n",
        "for j in range(2,n+1):\n",
        "  if(i >= n):\n",
        "    break\n",
        "  print(\"Hello World !!!\")\n",
        "  i *= i\n",
        "end = time.time()\n",
        "print(\"Time Complexity is of the order log(log(n)) and time taken = \",(end-start))"
      ],
      "metadata": {
        "colab": {
          "base_uri": "https://localhost:8080/"
        },
        "id": "RRf7M9jajsFb",
        "outputId": "2409e31f-4a2a-4631-9299-301dc36ad3d5"
      },
      "execution_count": 5,
      "outputs": [
        {
          "output_type": "stream",
          "name": "stdout",
          "text": [
            "Hello World !!!\n",
            "Hello World !!!\n",
            "Hello World !!!\n",
            "Time Complexity is of the order log(log(n)) and time taken =  0.0003349781036376953\n"
          ]
        }
      ]
    },
    {
      "cell_type": "code",
      "source": [
        "# 5 Time Complexity for Sum Function Calling\n",
        "import time\n",
        "def sum_list(list): # 1 - t1\n",
        "  start = time.time()\n",
        "  total = 0 # 2 - t2\n",
        "  for num in list: # length of the list say n each step takes time t\n",
        "    total += num # 3 - t3\n",
        "  end = time.time()\n",
        "  return total ,1000*(end-start) # 4 - t4\n",
        "list=[1, 2, 3, 4, 5, 6, 7, 8, 9, 10, 11, 12, 13, 14, 15, 16,17,18,19,20]\n",
        "print(\"(sum, time taken(t1+t2+t*n+t3*n+t4)) =\",sum_list(list))"
      ],
      "metadata": {
        "colab": {
          "base_uri": "https://localhost:8080/"
        },
        "id": "IWLMork_juuC",
        "outputId": "bf9abdc7-c32e-433c-cb17-c25cb39c9110"
      },
      "execution_count": 6,
      "outputs": [
        {
          "output_type": "stream",
          "name": "stdout",
          "text": [
            "(sum, time taken(t1+t2+t*n+t3*n+t4)) = (210, 0.00286102294921875)\n"
          ]
        }
      ]
    },
    {
      "cell_type": "code",
      "source": [
        "# 6 Time Complexity for Product Function Calling\n",
        "import time\n",
        "def product_list(list): # 1 - t1\n",
        "  start = time.time()\n",
        "  total = 1 # 2 - t2\n",
        "  for num in list: # length of the list say n each step takes time t\n",
        "    total *= num # 3 - t3\n",
        "  end = time.time()\n",
        "  return total ,1000*(end-start) # 4 - t4\n",
        "list=[1, 2, 3, 4, 5]\n",
        "print(\"(product, time taken(t1+t2+t*n+t3*n+t4)) =\",product_list(list))"
      ],
      "metadata": {
        "colab": {
          "base_uri": "https://localhost:8080/"
        },
        "id": "YV0zOPgHjxV1",
        "outputId": "2d35b5a6-0a16-44db-ae81-9f56807aa224"
      },
      "execution_count": 7,
      "outputs": [
        {
          "output_type": "stream",
          "name": "stdout",
          "text": [
            "(product, time taken(t1+t2+t*n+t3*n+t4)) = (120, 0.0011920928955078125)\n"
          ]
        }
      ]
    },
    {
      "cell_type": "code",
      "source": [
        "# 7 Time Complexity for two for loops\n",
        "import time\n",
        "start = time.time()\n",
        "my_list = [1, 2, 3, 4, 5] # t1\n",
        "for i in range(len(my_list)): # t2\n",
        "  for j in range(len(my_list)): # t3\n",
        "    print(my_list[i], my_list[j]) # n * m * t4\n",
        "end=time.time()\n",
        "print(\"time taken = \",1000*(end-start))"
      ],
      "metadata": {
        "colab": {
          "base_uri": "https://localhost:8080/"
        },
        "id": "S6B76h8kj0JC",
        "outputId": "39833f1d-4e67-4d9f-8ef4-623f24676cd4"
      },
      "execution_count": 8,
      "outputs": [
        {
          "output_type": "stream",
          "name": "stdout",
          "text": [
            "1 1\n",
            "1 2\n",
            "1 3\n",
            "1 4\n",
            "1 5\n",
            "2 1\n",
            "2 2\n",
            "2 3\n",
            "2 4\n",
            "2 5\n",
            "3 1\n",
            "3 2\n",
            "3 3\n",
            "3 4\n",
            "3 5\n",
            "4 1\n",
            "4 2\n",
            "4 3\n",
            "4 4\n",
            "4 5\n",
            "5 1\n",
            "5 2\n",
            "5 3\n",
            "5 4\n",
            "5 5\n",
            "time taken =  10.138750076293945\n"
          ]
        }
      ]
    },
    {
      "cell_type": "code",
      "source": [
        "# 8. Find the Sum of 2 numbers on the above machine\n",
        "start=time.time()\n",
        "def sum(a,b):\n",
        "  return a+b\n",
        "# function call\n",
        "a = 10\n",
        "b = 12\n",
        "print(sum(a,b))\n",
        "end= time.time()\n",
        "print(\"time taken = \",1000*(end-start))"
      ],
      "metadata": {
        "colab": {
          "base_uri": "https://localhost:8080/"
        },
        "id": "PD44Pu76j2cK",
        "outputId": "c9c28104-c272-486f-fe84-a161f1c022de"
      },
      "execution_count": 9,
      "outputs": [
        {
          "output_type": "stream",
          "name": "stdout",
          "text": [
            "22\n",
            "time taken =  0.5283355712890625\n"
          ]
        }
      ]
    }
  ]
}