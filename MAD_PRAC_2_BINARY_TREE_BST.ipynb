{
  "nbformat": 4,
  "nbformat_minor": 0,
  "metadata": {
    "colab": {
      "provenance": [],
      "authorship_tag": "ABX9TyOVrdKlNk1RR//I7jPo2VRO",
      "include_colab_link": true
    },
    "kernelspec": {
      "name": "python3",
      "display_name": "Python 3"
    },
    "language_info": {
      "name": "python"
    }
  },
  "cells": [
    {
      "cell_type": "markdown",
      "metadata": {
        "id": "view-in-github",
        "colab_type": "text"
      },
      "source": [
        "<a href=\"https://colab.research.google.com/github/JBawiskar/MAD_PRACTICAL/blob/main/MAD_PRAC_2_BINARY_TREE_BST.ipynb\" target=\"_parent\"><img src=\"https://colab.research.google.com/assets/colab-badge.svg\" alt=\"Open In Colab\"/></a>"
      ]
    },
    {
      "cell_type": "code",
      "execution_count": 1,
      "metadata": {
        "colab": {
          "base_uri": "https://localhost:8080/"
        },
        "id": "-FQAHk5gkjf2",
        "outputId": "cd6f4922-fcbf-49e8-d895-5c1cc43b905f"
      },
      "outputs": [
        {
          "output_type": "stream",
          "name": "stdout",
          "text": [
            "Collecting binarytree\n",
            "  Downloading binarytree-6.5.1-py3-none-any.whl (18 kB)\n",
            "Requirement already satisfied: graphviz in /usr/local/lib/python3.10/dist-packages (from binarytree) (0.20.3)\n",
            "Requirement already satisfied: setuptools>=60.8.2 in /usr/local/lib/python3.10/dist-packages (from binarytree) (67.7.2)\n",
            "Collecting setuptools-scm[toml]>=5.0.1 (from binarytree)\n",
            "  Downloading setuptools_scm-8.1.0-py3-none-any.whl (43 kB)\n",
            "\u001b[2K     \u001b[90m━━━━━━━━━━━━━━━━━━━━━━━━━━━━━━━━━━━━━━━━\u001b[0m \u001b[32m43.7/43.7 kB\u001b[0m \u001b[31m1.4 MB/s\u001b[0m eta \u001b[36m0:00:00\u001b[0m\n",
            "\u001b[?25hRequirement already satisfied: packaging>=20 in /usr/local/lib/python3.10/dist-packages (from setuptools-scm[toml]>=5.0.1->binarytree) (24.1)\n",
            "Requirement already satisfied: tomli>=1 in /usr/local/lib/python3.10/dist-packages (from setuptools-scm[toml]>=5.0.1->binarytree) (2.0.1)\n",
            "Installing collected packages: setuptools-scm, binarytree\n",
            "Successfully installed binarytree-6.5.1 setuptools-scm-8.1.0\n"
          ]
        }
      ],
      "source": [
        "# 1. Install binarytree package\n",
        "!pip install binarytree"
      ]
    },
    {
      "cell_type": "code",
      "source": [
        "# 2. Creating a Node\n",
        "from binarytree import Node\n",
        "root = Node(3)\n",
        "root.left = Node(6)\n",
        "root.right = Node(8)\n",
        "print(\"The binary tree created is: \", root)"
      ],
      "metadata": {
        "colab": {
          "base_uri": "https://localhost:8080/"
        },
        "id": "LdpH0XCpkqIC",
        "outputId": "86b76c8c-473a-4a39-e676-7f3a372d6ce8"
      },
      "execution_count": 2,
      "outputs": [
        {
          "output_type": "stream",
          "name": "stdout",
          "text": [
            "The binary tree created is:  \n",
            "  3\n",
            " / \\\n",
            "6   8\n",
            "\n"
          ]
        }
      ]
    },
    {
      "cell_type": "code",
      "source": [
        "# 3. ALTERNATE WAY OF CREATING NODES IN A BINARY TREE\n",
        "from binarytree import Node\n",
        "root = Node(1) #create a root node\n",
        "root.left = Node(2)  #create left child\n",
        "root.right = Node(3)  #create right child\n",
        "print(\"The binary tree created is: \", root)"
      ],
      "metadata": {
        "colab": {
          "base_uri": "https://localhost:8080/"
        },
        "id": "0-gfq5pvksrp",
        "outputId": "1015a48e-10b5-4b52-dfdf-4112afdfa4aa"
      },
      "execution_count": 3,
      "outputs": [
        {
          "output_type": "stream",
          "name": "stdout",
          "text": [
            "The binary tree created is:  \n",
            "  1\n",
            " / \\\n",
            "2   3\n",
            "\n"
          ]
        }
      ]
    },
    {
      "cell_type": "code",
      "source": [
        "# 4. Getting binary tree\n",
        "# Getting list of nodes\n",
        "print('List of nodes in the order root,left,right :', list(root))\n",
        "# Getting inorder of nodes\n",
        "print('Inorder of nodes :', root.inorder)\n",
        "# Getting preorder of nodes\n",
        "print('Preorder of nodes :', root.preorder)\n",
        "# Getting inorder of nodes\n",
        "print('Postorder of nodes :', root.postorder)\n",
        "# Checking tree properties\n",
        "print('Size of tree :', root.size)\n",
        "print('Height of tree :', root.height)\n",
        "# Get all properties at once\n",
        "print('Properties of tree : \\n', root.properties)"
      ],
      "metadata": {
        "colab": {
          "base_uri": "https://localhost:8080/"
        },
        "id": "rC93Y99fkuqJ",
        "outputId": "f0624dde-8060-42f0-bd34-2f8162f6e37b"
      },
      "execution_count": 4,
      "outputs": [
        {
          "output_type": "stream",
          "name": "stdout",
          "text": [
            "List of nodes in the order root,left,right : [Node(1), Node(2), Node(3)]\n",
            "Inorder of nodes : [Node(2), Node(1), Node(3)]\n",
            "Preorder of nodes : [Node(1), Node(2), Node(3)]\n",
            "Postorder of nodes : [Node(2), Node(3), Node(1)]\n",
            "Size of tree : 3\n",
            "Height of tree : 1\n",
            "Properties of tree : \n",
            " {'height': 1, 'size': 3, 'is_max_heap': False, 'is_min_heap': True, 'is_perfect': True, 'is_strict': True, 'is_complete': True, 'leaf_count': 2, 'min_node_value': 1, 'max_node_value': 3, 'min_leaf_depth': 1, 'max_leaf_depth': 1, 'is_balanced': True, 'is_bst': False, 'is_symmetric': False}\n"
          ]
        }
      ]
    },
    {
      "cell_type": "code",
      "source": [
        "# 5. Creating/ building binary tree from given list\n",
        "from binarytree import build\n",
        "# List of nodes\n",
        "nodes =[3, 6, 8, 2, 11, 4, 13]\n",
        "# Building the binary tree\n",
        "binary_tree = build(nodes)\n",
        "print('Binary tree from list :\\n',binary_tree)\n",
        "# Getting list of nodes from binarytree\n",
        "print('\\nList from binary tree :', binary_tree.values)"
      ],
      "metadata": {
        "colab": {
          "base_uri": "https://localhost:8080/"
        },
        "id": "UJFM_ldkkxU8",
        "outputId": "fdbe4077-76fd-4ee4-ea0f-ea06e5bc8b21"
      },
      "execution_count": 5,
      "outputs": [
        {
          "output_type": "stream",
          "name": "stdout",
          "text": [
            "Binary tree from list :\n",
            " \n",
            "    ___3__\n",
            "   /      \\\n",
            "  6        8\n",
            " / \\      / \\\n",
            "2   11   4   13\n",
            "\n",
            "\n",
            "List from binary tree : [3, 6, 8, 2, 11, 4, 13]\n"
          ]
        }
      ]
    },
    {
      "cell_type": "code",
      "source": [
        "# 6A. Creating/ building binary tree from given list\n",
        "from binarytree import build\n",
        "# List of nodes\n",
        "nodes =['a', 'b', 'c', 'd', 'e', 'f', 'g']\n",
        "# Building the binary tree\n",
        "binary_tree = build(nodes)\n",
        "print('Binary tree from list :\\n',binary_tree)\n",
        "# Getting list of nodes from binarytree\n",
        "print('\\nList from binary tree :', binary_tree.values)"
      ],
      "metadata": {
        "colab": {
          "base_uri": "https://localhost:8080/"
        },
        "id": "W0XcJyNwkzeE",
        "outputId": "070873b6-71d3-4100-8c46-4e6b824af5f5"
      },
      "execution_count": 6,
      "outputs": [
        {
          "output_type": "stream",
          "name": "stdout",
          "text": [
            "Binary tree from list :\n",
            " \n",
            "    __a__\n",
            "   /     \\\n",
            "  b       c\n",
            " / \\     / \\\n",
            "d   e   f   g\n",
            "\n",
            "\n",
            "List from binary tree : ['a', 'b', 'c', 'd', 'e', 'f', 'g']\n"
          ]
        }
      ]
    },
    {
      "cell_type": "code",
      "source": [
        "# 6B. ALTERNATE WAY OF BUILDING A TREE\n",
        "from binarytree import build\n",
        "values=[1,2,3,4,5,6,7]\n",
        "tree = build(values)\n",
        "print(tree)\n"
      ],
      "metadata": {
        "colab": {
          "base_uri": "https://localhost:8080/"
        },
        "id": "7vwgjLS2k2LY",
        "outputId": "fc992e76-0d9e-4ac3-d7aa-aafe8ccfea09"
      },
      "execution_count": 7,
      "outputs": [
        {
          "output_type": "stream",
          "name": "stdout",
          "text": [
            "\n",
            "    __1__\n",
            "   /     \\\n",
            "  2       3\n",
            " / \\     / \\\n",
            "4   5   6   7\n",
            "\n"
          ]
        }
      ]
    },
    {
      "cell_type": "code",
      "source": [
        "# 6C. ALTERNATE WAY OF BUILDING A TREE\n",
        "from binarytree import build\n",
        "values=['v1','v2','v3','v4','v5','v6','v7']\n",
        "tree = build(values)\n",
        "print(tree)"
      ],
      "metadata": {
        "colab": {
          "base_uri": "https://localhost:8080/"
        },
        "id": "aFVDG4tjk4el",
        "outputId": "7680216c-c75c-4686-f04a-e6eadccd72a2"
      },
      "execution_count": 8,
      "outputs": [
        {
          "output_type": "stream",
          "name": "stdout",
          "text": [
            "\n",
            "     ____v1___\n",
            "    /         \\\n",
            "  _v2         _v3\n",
            " /   \\       /   \\\n",
            "v4    v5    v6    v7\n",
            "\n"
          ]
        }
      ]
    },
    {
      "cell_type": "code",
      "source": [
        "# 7. Create a random binary tree of any height\n",
        "from binarytree import tree\n",
        "root = tree()\n",
        "print(\"Binary tree of any height :\")\n",
        "print(root)\n",
        "# Create a random binary tree of given height\n",
        "root2 = tree(height = 2)\n",
        "print(\"Binary tree of given height :\")\n",
        "print(root2)\n",
        "# Create a random perfect binary tree of given height\n",
        "root3 = tree(height = 2, is_perfect = True)\n",
        "print(\"Perfect binary tree of given height :\")\n",
        "print(root3)\n",
        "# Create a random perfect binary tree of given height\n",
        "root4 = tree(height = 3, is_perfect = True)\n",
        "print(\"Perfect binary tree of given height :\")\n",
        "print(root4)"
      ],
      "metadata": {
        "colab": {
          "base_uri": "https://localhost:8080/"
        },
        "id": "sMjUTkdvk6kM",
        "outputId": "3a4bde3f-aaee-4b15-ceb2-70c53fcc7b25"
      },
      "execution_count": 9,
      "outputs": [
        {
          "output_type": "stream",
          "name": "stdout",
          "text": [
            "Binary tree of any height :\n",
            "\n",
            "      _____2_______\n",
            "     /             \\\n",
            "    0___         ___14__\n",
            "   /    \\       /       \\\n",
            "  7     _1     13        12\n",
            " /     /      /  \\      /\n",
            "6     10     8    4    9\n",
            "\n",
            "Binary tree of given height :\n",
            "\n",
            "    4__\n",
            "   /   \\\n",
            "  5     0\n",
            " /     / \\\n",
            "3     6   2\n",
            "\n",
            "Perfect binary tree of given height :\n",
            "\n",
            "    __4__\n",
            "   /     \\\n",
            "  2       3\n",
            " / \\     / \\\n",
            "1   0   5   6\n",
            "\n",
            "Perfect binary tree of given height :\n",
            "\n",
            "         ________7_______\n",
            "        /                \\\n",
            "     __11__             __5___\n",
            "    /      \\           /      \\\n",
            "  _1        12       _9       _3\n",
            " /  \\      /  \\     /  \\     /  \\\n",
            "14   4    0    8   10   6   13   2\n",
            "\n"
          ]
        }
      ]
    },
    {
      "cell_type": "code",
      "source": [
        "# 8. Create a random BST of any height\n",
        "from binarytree import bst\n",
        "root = bst()\n",
        "print(type(root))\n",
        "print('Node list',root.values)\n",
        "print('BST of any height : \\n', root)\n",
        "# Create a random BST of  given height\n",
        "root2 = bst(height = 2)\n",
        "print('Node list',root2.values)\n",
        "print('BST of given height : \\n', root2)\n",
        "# Create a random perfect BST of given height\n",
        "root3 = bst(height = 2, is_perfect = True)\n",
        "print('Node list',root3.values)\n",
        "print('Perfect BST of given height : \\n', root3)\n",
        "# Create a random perfect BST of given height\n",
        "root4 = bst(height = 3)\n",
        "print('Node list',root4.values)\n",
        "print('Perfect BST of given height : \\n', root4)\n",
        "# Create a random perfect BST of given height\n",
        "root5 = bst(height = 4, is_perfect=True)\n",
        "print('Node list',root5.values)\n",
        "print('Perfect BST of given height : \\n', root5)"
      ],
      "metadata": {
        "colab": {
          "base_uri": "https://localhost:8080/"
        },
        "id": "Bk4wiz88k8tW",
        "outputId": "24a02665-a66c-478d-e7b7-dd9c1e0dd663"
      },
      "execution_count": 10,
      "outputs": [
        {
          "output_type": "stream",
          "name": "stdout",
          "text": [
            "<class 'binarytree.Node'>\n",
            "Node list [7, 0, 11, None, 5, 8, 14, None, None, 1, 6, None, 9, 12]\n",
            "BST of any height : \n",
            " \n",
            "  ______7____\n",
            " /           \\\n",
            "0__         __11___\n",
            "   \\       /       \\\n",
            "    5     8        _14\n",
            "   / \\     \\      /\n",
            "  1   6     9    12\n",
            "\n",
            "Node list [5, 2, None, 1, 3]\n",
            "BST of given height : \n",
            " \n",
            "    __5\n",
            "   /\n",
            "  2\n",
            " / \\\n",
            "1   3\n",
            "\n",
            "Node list [3, 1, 5, 0, 2, 4, 6]\n",
            "Perfect BST of given height : \n",
            " \n",
            "    __3__\n",
            "   /     \\\n",
            "  1       5\n",
            " / \\     / \\\n",
            "0   2   4   6\n",
            "\n",
            "Node list [2, 0, 10, None, 1, 3, 12, None, None, None, None, None, 6, 11, 13]\n",
            "Perfect BST of given height : \n",
            " \n",
            "  __2____\n",
            " /       \\\n",
            "0       __10___\n",
            " \\     /       \\\n",
            "  1   3        _12\n",
            "       \\      /   \\\n",
            "        6    11    13\n",
            "\n",
            "Node list [15, 7, 23, 3, 11, 19, 27, 1, 5, 9, 13, 17, 21, 25, 29, 0, 2, 4, 6, 8, 10, 12, 14, 16, 18, 20, 22, 24, 26, 28, 30]\n",
            "Perfect BST of given height : \n",
            " \n",
            "                ___________________15_____________________\n",
            "               /                                          \\\n",
            "        ______7_______                           __________23_________\n",
            "       /              \\                         /                     \\\n",
            "    __3__           ___11___               ____19___               ____27___\n",
            "   /     \\         /        \\             /         \\             /         \\\n",
            "  1       5       9         _13         _17         _21         _25         _29\n",
            " / \\     / \\     / \\       /   \\       /   \\       /   \\       /   \\       /   \\\n",
            "0   2   4   6   8   10    12    14    16    18    20    22    24    26    28    30\n",
            "\n"
          ]
        }
      ]
    },
    {
      "cell_type": "code",
      "source": [
        "# 9. Searching an element \"key\" in the created random BST of any height\n",
        "from binarytree import bst\n",
        "# Create a random BST of  given height which may be perfect or non perfect\n",
        "root6 = bst(height = 3, is_perfect=True)\n",
        "print('Node list',root6.values)\n",
        "print('BST of given height : \\n', root6)\n",
        "try:\n",
        "  print('value is found at posiiton =', root6.values.index(8))\n",
        "except ValueError:\n",
        "  print(\"value not found\")"
      ],
      "metadata": {
        "colab": {
          "base_uri": "https://localhost:8080/"
        },
        "id": "zZ4D0eOXk_tE",
        "outputId": "fcfd9d86-1a14-4ab6-f055-7019922f57d7"
      },
      "execution_count": 11,
      "outputs": [
        {
          "output_type": "stream",
          "name": "stdout",
          "text": [
            "Node list [7, 3, 11, 1, 5, 9, 13, 0, 2, 4, 6, 8, 10, 12, 14]\n",
            "BST of given height : \n",
            " \n",
            "        ______7_______\n",
            "       /              \\\n",
            "    __3__           ___11___\n",
            "   /     \\         /        \\\n",
            "  1       5       9         _13\n",
            " / \\     / \\     / \\       /   \\\n",
            "0   2   4   6   8   10    12    14\n",
            "\n",
            "value is found at posiiton = 11\n"
          ]
        }
      ]
    },
    {
      "cell_type": "code",
      "source": [
        "# 10. Inserting an element in a random BST (perfect or non perfect) of given height\n",
        "# Function to inser the node in BST\n",
        "def insert_bst(root, val):\n",
        "  if root is None:\n",
        "    return Node(val)\n",
        "  if val < root.value:\n",
        "    root.left = insert_bst(root.left, val)\n",
        "  else:\n",
        "    root.right = insert_bst(root.right, val)\n",
        "  return root\n",
        "# Create a perfect BST of given height using bst() function\n",
        "root = bst(height=3,is_perfect=True)\n",
        "print('BST before insertion :',root)\n",
        "# Insert values to the left into the BST\n",
        "insert_values1 = [2, 1, 3, 4]\n",
        "for value in insert_values1:\n",
        "  root = insert_bst(root, value)\n",
        "print(\"BST after inserting values to the left:\")\n",
        "print(root)\n",
        "# Insert values to the right into the BST\n",
        "insert_values2 = [28, 32, 44, 75]\n",
        "for value in insert_values2:\n",
        "  root = insert_bst(root, value)\n",
        "print(\"BST after inserting values to the right:\")\n",
        "print(root)"
      ],
      "metadata": {
        "colab": {
          "base_uri": "https://localhost:8080/"
        },
        "id": "DceaEF_IlB3y",
        "outputId": "0a2514ac-4af3-4874-d993-d4b30ec3b6e7"
      },
      "execution_count": 12,
      "outputs": [
        {
          "output_type": "stream",
          "name": "stdout",
          "text": [
            "BST before insertion : \n",
            "        ______7_______\n",
            "       /              \\\n",
            "    __3__           ___11___\n",
            "   /     \\         /        \\\n",
            "  1       5       9         _13\n",
            " / \\     / \\     / \\       /   \\\n",
            "0   2   4   6   8   10    12    14\n",
            "\n",
            "BST after inserting values to the left:\n",
            "\n",
            "            __________7_______\n",
            "           /                  \\\n",
            "    ______3______           ___11___\n",
            "   /             \\         /        \\\n",
            "  1__           __5       9         _13\n",
            " /   \\         /   \\     / \\       /   \\\n",
            "0     2       4     6   8   10    12    14\n",
            "     / \\     / \\\n",
            "    1   2   3   4\n",
            "\n",
            "BST after inserting values to the right:\n",
            "\n",
            "            __________7_______\n",
            "           /                  \\\n",
            "    ______3______           ___11___\n",
            "   /             \\         /        \\\n",
            "  1__           __5       9         _13\n",
            " /   \\         /   \\     / \\       /   \\\n",
            "0     2       4     6   8   10    12    14\n",
            "     / \\     / \\                          \\\n",
            "    1   2   3   4                          28\n",
            "                                             \\\n",
            "                                              32\n",
            "                                                \\\n",
            "                                                 44\n",
            "                                                   \\\n",
            "                                                    75\n",
            "\n"
          ]
        }
      ]
    },
    {
      "cell_type": "code",
      "source": [
        "# 11. Take an array and insert the node one by one to generate the BST and then delete the given node from a BST\n",
        "from binarytree import Node\n",
        "# Function to insert the node into the BST\n",
        "def insert_node(root, value):\n",
        "  if root is None:\n",
        "    return Node(value)\n",
        "  if value < root.value:\n",
        "    root.left = insert_node(root.left, value)\n",
        "  else:\n",
        "    root.right = insert_node(root.right, value)\n",
        "  return root\n",
        "# Take the array of elelements\n",
        "values = [15,5,16,3,12,20,10,13,18,23,6,7]\n",
        "bst = None\n",
        "print('BST original tree before deletion')\n",
        "for value in values:\n",
        "  bst = insert_node(bst, value)\n",
        "print(values)\n",
        "print(bst)\n",
        "# Function to update the tree after deleting the node\n",
        "def delete_item_return_tree(array_new,value,i):\n",
        "  array_new = [x for x in array_new if x != value]\n",
        "  print(array_new)\n",
        "  bst_new = None\n",
        "  for value in array_new:\n",
        "    bst_new = insert_node(bst_new,value)\n",
        "  print(bst_new)\n",
        "  print(i)\n",
        "  return array_new\n",
        "# deleting the item 1 from the array and updating the BST\n",
        "node1 = 16\n",
        "print('BST after deleting node1 = ',node1)\n",
        "# values = delete_item_return_tree(values,node1,1)\n",
        "# deleting the item 2 from the array and updating the BST\n",
        "node2 = 5\n",
        "print('BST after deleting node2 = ',node2)\n",
        "values = delete_item_return_tree(values,node2,2)\n",
        "#print(values)"
      ],
      "metadata": {
        "colab": {
          "base_uri": "https://localhost:8080/"
        },
        "id": "huC8I1cDlFVt",
        "outputId": "c3acfe73-e913-40c3-989e-72591f946121"
      },
      "execution_count": 13,
      "outputs": [
        {
          "output_type": "stream",
          "name": "stdout",
          "text": [
            "BST original tree before deletion\n",
            "[15, 5, 16, 3, 12, 20, 10, 13, 18, 23, 6, 7]\n",
            "\n",
            "    _____________15\n",
            "   /               \\\n",
            "  5_______          16___\n",
            " /        \\              \\\n",
            "3         _12            _20\n",
            "         /   \\          /   \\\n",
            "      __10    13       18    23\n",
            "     /\n",
            "    6\n",
            "     \\\n",
            "      7\n",
            "\n",
            "BST after deleting node1 =  16\n",
            "BST after deleting node2 =  5\n",
            "[15, 16, 3, 12, 20, 10, 13, 18, 23, 6, 7]\n",
            "\n",
            "  _____________15\n",
            " /               \\\n",
            "3_______          16___\n",
            "        \\              \\\n",
            "        _12            _20\n",
            "       /   \\          /   \\\n",
            "    __10    13       18    23\n",
            "   /\n",
            "  6\n",
            "   \\\n",
            "    7\n",
            "\n",
            "2\n"
          ]
        }
      ]
    }
  ]
}