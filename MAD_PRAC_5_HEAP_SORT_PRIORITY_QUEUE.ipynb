{
  "nbformat": 4,
  "nbformat_minor": 0,
  "metadata": {
    "colab": {
      "provenance": [],
      "authorship_tag": "ABX9TyOKP+y0IYHuiB/jWT9aJbyc",
      "include_colab_link": true
    },
    "kernelspec": {
      "name": "python3",
      "display_name": "Python 3"
    },
    "language_info": {
      "name": "python"
    }
  },
  "cells": [
    {
      "cell_type": "markdown",
      "metadata": {
        "id": "view-in-github",
        "colab_type": "text"
      },
      "source": [
        "<a href=\"https://colab.research.google.com/github/JBawiskar/MAD_PRACTICAL/blob/main/MAD_PRAC_5_HEAP_SORT_PRIORITY_QUEUE.ipynb\" target=\"_parent\"><img src=\"https://colab.research.google.com/assets/colab-badge.svg\" alt=\"Open In Colab\"/></a>"
      ]
    },
    {
      "cell_type": "code",
      "execution_count": 1,
      "metadata": {
        "id": "GfyW_PMWni9K"
      },
      "outputs": [],
      "source": [
        "# PRACTICAL 5.1 HEAP SORT\n",
        "def heapify(array, a, b):\n",
        "  max = b\n",
        "  l = 2 * b + 1\n",
        "  root = 2 * b + 2\n",
        "  if l < a and array[b] < array[l]:\n",
        "    max = l\n",
        "  if root < a and array[max] < array[root]:\n",
        "    max = root\n",
        "\t# Change root if it is not max\n",
        "  if max != b:\n",
        "    array[b], array[max] = array[max], array[b]\n",
        "    heapify(array, a, max)\n",
        "# sort an array of given size\n",
        "def Heap_Sort(array):\n",
        "\ta = len(array)\n",
        "\t# maxheap..\n",
        "\tfor b in range(a // 2 - 1, -1, -1):\n",
        "\t\theapify(array, a, b)\n",
        "\t# extract elements\n",
        "\tfor b in range(a-1, 0, -1):\n",
        "\t\tarray[b], array[0] = array[0], array[b] # swap\n",
        "\t\theapify(array, b, 0)"
      ]
    },
    {
      "cell_type": "code",
      "source": [
        "# Test Code for checking Heap Sort Algorihtm\n",
        "array = [ 7, 2, 5, 6, 3, 1, 8, 4]\n",
        "print(\"The original array is: \", array)\n",
        "Heap_Sort(array)\n",
        "a = len(array)\n",
        "print (\"Array after sorting is: \", array)"
      ],
      "metadata": {
        "colab": {
          "base_uri": "https://localhost:8080/"
        },
        "id": "wjkWSoEenm_D",
        "outputId": "2e63ec2c-4bb6-4723-94a7-0e354edf6225"
      },
      "execution_count": 2,
      "outputs": [
        {
          "output_type": "stream",
          "name": "stdout",
          "text": [
            "The original array is:  [7, 2, 5, 6, 3, 1, 8, 4]\n",
            "Array after sorting is:  [1, 2, 3, 4, 5, 6, 7, 8]\n"
          ]
        }
      ]
    }
  ]
}