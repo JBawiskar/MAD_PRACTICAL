{
  "nbformat": 4,
  "nbformat_minor": 0,
  "metadata": {
    "colab": {
      "provenance": [],
      "authorship_tag": "ABX9TyMCpMa7f0I73v5I1wr5s9Ci",
      "include_colab_link": true
    },
    "kernelspec": {
      "name": "python3",
      "display_name": "Python 3"
    },
    "language_info": {
      "name": "python"
    }
  },
  "cells": [
    {
      "cell_type": "markdown",
      "metadata": {
        "id": "view-in-github",
        "colab_type": "text"
      },
      "source": [
        "<a href=\"https://colab.research.google.com/github/JBawiskar/MAD_PRACTICAL/blob/main/MAD_PRAC_6_Dijkastra_Shortest_Path_Algorithm.ipynb\" target=\"_parent\"><img src=\"https://colab.research.google.com/assets/colab-badge.svg\" alt=\"Open In Colab\"/></a>"
      ]
    },
    {
      "cell_type": "code",
      "execution_count": null,
      "metadata": {
        "id": "NQnABNNRnyuM"
      },
      "outputs": [],
      "source": [
        "import networkx as nx\n",
        "import matplotlib.pyplot as plt"
      ]
    },
    {
      "cell_type": "code",
      "source": [
        "# 1 Dijkastra Algorithm for undirected weighted graph\n",
        "def do_dijkstra(graph,src,dest):\n",
        "  Shortest_path = nx.dijkstra_path(G=graph,source=src,target=dest,weight='weight')\n",
        "  # Combine the shortest paths as tuple\n",
        "  path_edges = list(zip(Shortest_path,Shortest_path[1:]))\n",
        "  # Use f before the opening quotation mark in a print() statement, so that,\n",
        "  # we can write a Python expression between { } characters that can refer to variables or literal values.\n",
        "  print(f\"Shortest Path From {src} -> {dest}: {Shortest_path}\")\n",
        "  print(\"Shortest Path Edges:\",path_edges)\n",
        "  print(\"length of the Path: \", nx.dijkstra_path_length(graph,src,dest,'weight'))\n",
        "  # To draw the graph and the shortest path\n",
        "  pos = nx.circular_layout(graph)\n",
        "  nx.draw_networkx_nodes(Shortest_path, pos, node_color='r')\n",
        "  nx.draw_networkx_nodes(graph.nodes - Shortest_path, pos,node_color='k')\n",
        "  nx.draw_networkx_edges(graph, pos, edgelist=graph.edges)\n",
        "  nx.draw_networkx_edges(graph,pos,edgelist=path_edges,edge_color='r')\n",
        "  labels = nx.get_edge_attributes(graph,'weight')\n",
        "  nx.draw_networkx_edge_labels(graph,pos,labels)\n",
        "  nx.draw_networkx_labels(graph,pos,font_color='w')\n",
        "  plt.axis(\"off\")\n",
        "  plt.show()"
      ],
      "metadata": {
        "id": "lwLzCZM3n3pA"
      },
      "execution_count": null,
      "outputs": []
    },
    {
      "cell_type": "code",
      "source": [
        "D = nx.Graph()\n",
        "d_edges = [('a','b',4),('b','c',3),('c','z',2),('z','e',1),('e','d',3),('b','e',3),('a','d',2)]\n",
        "print(type(d_edges))\n",
        "D.add_weighted_edges_from(d_edges)\n",
        "do_dijkstra(D,'a','z')"
      ],
      "metadata": {
        "id": "BBDTP0Iln6VN"
      },
      "execution_count": null,
      "outputs": []
    },
    {
      "cell_type": "code",
      "source": [
        "import heapq\n",
        "def dijkstra(graph, start):\n",
        "    # Initialize distances to all vertices as infinity\n",
        "    distances = {vertex: float('infinity') for vertex in graph}\n",
        "    # Distance from start vertex to itself is 0\n",
        "    distances[start] = 0\n",
        "    # Priority queue to keep track of vertices to visit\n",
        "    priority_queue = [(0, start)]\n",
        "    while priority_queue:\n",
        "        # Pop the vertex with the smallest distance from priority queue\n",
        "        current_distance, current_vertex = heapq.heappop(priority_queue)\n",
        "\n",
        "        # Skip if we have already found a shorter distance to this vertex\n",
        "        if current_distance > distances[current_vertex]:\n",
        "            continue\n",
        "        # Explore neighbors of the current vertex\n",
        "        for neighbor, weight in graph[current_vertex].items():\n",
        "            distance = current_distance + weight\n",
        "            # If new distance is shorter than the known distance, update\n",
        "            if distance < distances[neighbor]:\n",
        "                distances[neighbor] = distance\n",
        "                # Add to priority queue\n",
        "                heapq.heappush(priority_queue, (distance, neighbor))\n",
        "    return distances\n",
        "def shortest_path_length(graph, start, end):\n",
        "    # Apply Dijkstra's algorithm to find shortest distances from start vertex\n",
        "    distances = dijkstra(graph, start)\n",
        "    # Return the distance to the end vertex\n",
        "    return distances[end]\n",
        "\n",
        "# Example graph representation (adjacency list)\n",
        "graph = {\n",
        "    'A': {'B': 3, 'C': 2},\n",
        "    'B': {'C': 1, 'D': 5},\n",
        "    'C': {'D': 7},\n",
        "    'D': {'E': 2},\n",
        "    'E': {}\n",
        "}\n",
        "start_vertex = 'A'\n",
        "end_vertex = 'E'\n",
        "shortest_length = shortest_path_length(graph, start_vertex, end_vertex)\n",
        "print(f\"The length of the shortest path from vertex {start_vertex} to vertex {end_vertex} is: {shortest_length}\")\n",
        "print(\"Shortest distances from vertex\", start_vertex, \":\", dijkstra(graph, start_vertex))\n",
        "# To draw the graph and the shortest path\n",
        ""
      ],
      "metadata": {
        "id": "A4lQFn1mn8kD"
      },
      "execution_count": null,
      "outputs": []
    },
    {
      "cell_type": "code",
      "source": [
        "import heapq\n",
        "\n",
        "def dijkstra(graph, start):\n",
        "    # Initialize distances to all vertices as infinity\n",
        "    distances = {vertex: float('infinity') for vertex in graph}\n",
        "    # Distance from start vertex to itself is 0\n",
        "    distances[start] = 0\n",
        "    # Priority queue to keep track of vertices to visit\n",
        "    priority_queue = [(0, start)]\n",
        "\n",
        "    while priority_queue:\n",
        "        # Pop the vertex with the smallest distance from priority queue\n",
        "        current_distance, current_vertex = heapq.heappop(priority_queue)\n",
        "\n",
        "        # Skip if we have already found a shorter distance to this vertex\n",
        "        if current_distance > distances[current_vertex]:\n",
        "            continue\n",
        "\n",
        "        # Explore neighbors of the current vertex\n",
        "        for neighbor, weight in graph[current_vertex].items():\n",
        "            distance = current_distance + weight\n",
        "            # If new distance is shorter than the known distance, update\n",
        "            if distance < distances[neighbor]:\n",
        "                distances[neighbor] = distance\n",
        "                # Add to priority queue\n",
        "                heapq.heappush(priority_queue, (distance, neighbor))\n",
        "\n",
        "    return distances\n",
        "def shortest_path_length(graph, start, end):\n",
        "    # Apply Dijkstra's algorithm to find shortest distances from start vertex\n",
        "    distances = dijkstra(graph, start)\n",
        "    # Return the distance to the end vertex\n",
        "    return distances[end]\n",
        "# Example graph representation (adjacency list)\n",
        "graph = {\n",
        "    'A': {'B': 3, 'C': -2},\n",
        "    'B': {'C': 1, 'D': -5},\n",
        "    'C': {'D': 7},\n",
        "    'D': {'E': 2},\n",
        "    'E': {}\n",
        "}\n",
        "\n",
        "start_vertex = 'A'\n",
        "end_vertex = 'E'\n",
        "print(\"Shortest distances from vertex\", start_vertex, \":\", dijkstra(graph, start_vertex))\n",
        "shortest_length = shortest_path_length(graph, start_vertex, end_vertex)\n",
        "print(f\"The length of the shortest path from vertex {start_vertex} to vertex {end_vertex} is: {shortest_length}\")\n"
      ],
      "metadata": {
        "id": "iqx-dtC8oB6u"
      },
      "execution_count": null,
      "outputs": []
    }
  ]
}